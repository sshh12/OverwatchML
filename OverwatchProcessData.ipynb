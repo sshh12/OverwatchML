{
 "cells": [
  {
   "cell_type": "code",
   "execution_count": 1,
   "metadata": {
    "collapsed": true
   },
   "outputs": [],
   "source": [
    "# Imports\n",
    "\n",
    "import numpy as np\n",
    "import os"
   ]
  },
  {
   "cell_type": "code",
   "execution_count": 2,
   "metadata": {
    "collapsed": true
   },
   "outputs": [],
   "source": [
    "# Player Data Structure\n",
    "\n",
    "gametype = ['competitive', 'quickplay']\n",
    "\n",
    "general_stats = \"final_blows_avg_per_10_min, offensive_assists_most_in_game, melee_final_blows_most_in_game, environmental_kills, solo_kills_avg_per_10_min, medals_gold, healing_done_most_in_game, final_blows, solo_kills, teleporter_pad_destroyed_most_in_game, of_teams_hero_damage, medals_bronze, time_spent_on_fire_most_in_game, hero_damage_done_most_in_game, turrets_destroyed, deaths, defensive_assists, games_tied, kill_streak_best, eliminations_avg_per_10_min, time_played, shield_generator_destroyed_most_in_game, medals, melee_percentage_of_final_blows, all_damage_done, all_damage_done_avg_per_10_min, melee_final_blows_avg_per_10_min, shield_generator_destroyed, objective_kills_most_in_game, barrier_damage_done_avg_per_10_min, of_teams_damage, objective_time, games_lost, time_spent_on_fire_avg_per_10_min, healing_done_avg_per_10_min, multikills, kpd, hero_damage_done, objective_time_most_in_game, objective_time_avg_per_10_min, defensive_assists_most_in_game, final_blows_most_in_game, games_won, deaths_avg_per_10_min, damage_blocked, solo_kills_most_in_game, recon_assists, melee_final_blows, recon_assists_most_in_game, cards, all_damage_done_most_in_game, multikill_best, environmental_kills_most_in_game, turrets_destroyed_most_in_game, objective_kills, medals_silver, games_played, weapon_accuracy, eliminations, offensive_assists, hero_damage_done_avg_per_10_min, eliminations_most_in_game, barrier_damage_done, time_spent_on_fire, environmental_deaths, teleporter_pads_destroyed, healing_done, objective_kills_avg_per_10_min\".split(', ')\n",
    "   "
   ]
  },
  {
   "cell_type": "code",
   "execution_count": 3,
   "metadata": {
    "collapsed": true
   },
   "outputs": [],
   "source": [
    "\n",
    "def get_competitive_rank(player, region):\n",
    "    \n",
    "    try:\n",
    "\n",
    "        return int(player.json[region]['stats']['competitive']['overall_stats']['comprank'])\n",
    "\n",
    "    except (TypeError, KeyError):\n",
    "\n",
    "        return False\n"
   ]
  },
  {
   "cell_type": "code",
   "execution_count": 4,
   "metadata": {
    "collapsed": true
   },
   "outputs": [],
   "source": [
    "\n",
    "def get_vector_gamestats(player, region, gametype, stat_keys=None):\n",
    "    \n",
    "    if not stat_keys:\n",
    "            \n",
    "        stat_keys = general_stats\n",
    "        \n",
    "    try:\n",
    "\n",
    "        stats = player.json[region]['stats'][gametype]['game_stats']\n",
    "            \n",
    "        vector = []\n",
    "            \n",
    "        for key in stat_keys:\n",
    "                \n",
    "            if \"overwatchguid\" not in key:\n",
    "                    \n",
    "                if key not in stats:\n",
    "                        \n",
    "                    vector.append(0)\n",
    "                        \n",
    "                else:\n",
    "                \n",
    "                    vector.append(stats[key])\n",
    "                \n",
    "        return np.array(vector)\n",
    "\n",
    "    except (TypeError, KeyError):\n",
    "\n",
    "        return False\n"
   ]
  }
 ],
 "metadata": {
  "kernelspec": {
   "display_name": "Python [conda env:tf-gpu]",
   "language": "python",
   "name": "conda-env-tf-gpu-py"
  },
  "language_info": {
   "codemirror_mode": {
    "name": "ipython",
    "version": 3
   },
   "file_extension": ".py",
   "mimetype": "text/x-python",
   "name": "python",
   "nbconvert_exporter": "python",
   "pygments_lexer": "ipython3",
   "version": "3.5.3"
  }
 },
 "nbformat": 4,
 "nbformat_minor": 2
}
