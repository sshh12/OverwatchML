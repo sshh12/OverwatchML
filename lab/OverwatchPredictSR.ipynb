{
 "cells": [
  {
   "cell_type": "code",
   "execution_count": 1,
   "metadata": {},
   "outputs": [
    {
     "name": "stderr",
     "output_type": "stream",
     "text": [
      "Using TensorFlow backend.\n"
     ]
    }
   ],
   "source": [
    "# Imports\n",
    "\n",
    "from OverwatchProcessData import get_vector_combined, get_vector_gamestats, get_vector_herostats\n",
    "from OverwatchProcessData import get_competitive_rank, general_stats, hero_stats\n",
    "from OverwatchGatherData import Player, find_usernames\n",
    "\n",
    "import numpy as np\n",
    "import os\n",
    "\n",
    "np.random.seed(123)\n",
    "\n",
    "from sklearn.preprocessing import StandardScaler\n",
    "from sklearn.externals import joblib\n",
    "\n",
    "from keras.layers.normalization import BatchNormalization\n",
    "from keras.models import Sequential, load_model\n",
    "from keras.callbacks import EarlyStopping\n",
    "from keras.layers import Dense, Dropout\n",
    "\n",
    "import keras.backend as K\n",
    "\n",
    "import matplotlib.pyplot as plt"
   ]
  },
  {
   "cell_type": "code",
   "execution_count": 6,
   "metadata": {
    "collapsed": true,
    "scrolled": true
   },
   "outputs": [],
   "source": [
    "# Load Data\n",
    "\n",
    "## Creating Custom Metrics\n",
    "\n",
    "general_general_stats = ['kpd']\n",
    "\n",
    "for stat in general_stats:\n",
    "\n",
    "    if 'avg' in stat:\n",
    "\n",
    "        general_general_stats.append(stat)\n",
    "        \n",
    "general_hero_stats = []\n",
    "\n",
    "for stat in hero_stats:\n",
    "\n",
    "    if 'avg' in stat:\n",
    "\n",
    "        general_hero_stats.append(stat)\n",
    "        \n",
    "## Loading Data\n",
    "        \n",
    "def generate_players(limit=1e10):\n",
    "    \n",
    "    for filename in os.listdir(os.path.join('..', 'profiles')):\n",
    "        \n",
    "        if limit < 0: return\n",
    "        \n",
    "        try: # If it can't read the player then just ignore file\n",
    "            \n",
    "            player = Player.from_file(os.path.join('..', 'profiles', filename))\n",
    "        \n",
    "            if 'error' not in player.json and get_competitive_rank(player, 'us'):\n",
    "\n",
    "                yield player\n",
    "                \n",
    "                limit -= 1\n",
    "                \n",
    "            else: # Throw Away\n",
    "                \n",
    "                print('Deleting Profile...', filename)\n",
    "                \n",
    "                os.remove(os.path.join('..', 'profiles', filename))\n",
    "                \n",
    "        except:\n",
    "            pass\n",
    "\n",
    "def load_data(get_vector):\n",
    "\n",
    "    unscaled_X, unscaled_y = [], []\n",
    "\n",
    "    for player in generate_players():\n",
    "\n",
    "        rank = get_competitive_rank(player, 'us')\n",
    "\n",
    "        if rank and rank > 100:\n",
    "            \n",
    "            playtime = player.json['us']['stats']['competitive']['game_stats']['time_played']\n",
    "            \n",
    "            if playtime > 25:\n",
    "\n",
    "                unscaled_X.append(get_vector(player, 'us'))\n",
    "                unscaled_y.append(rank)\n",
    "\n",
    "    unscaled_X = np.array(unscaled_X, dtype=np.float64)\n",
    "    unscaled_y = np.array(unscaled_y, dtype=np.float64)\n",
    "    \n",
    "    print(unscaled_X.shape)\n",
    "    print(unscaled_y.shape)\n",
    "    \n",
    "    return unscaled_X, unscaled_y\n"
   ]
  },
  {
   "cell_type": "code",
   "execution_count": 3,
   "metadata": {
    "collapsed": true
   },
   "outputs": [],
   "source": [
    "# Standardize Data\n",
    "\n",
    "def scale_data(unscaled_X, unscaled_y):\n",
    "    \n",
    "    scaler_X = StandardScaler()\n",
    "    scaler_y = StandardScaler(with_mean=False) # SR is 1-5000 so scaling w/mean has weird effects\n",
    "\n",
    "    X = scaler_X.fit_transform(unscaled_X)\n",
    "    y = np.squeeze(scaler_y.fit_transform(unscaled_y.reshape(-1, 1)))\n",
    "    \n",
    "    return X, y, scaler_X, scaler_y\n",
    "\n",
    "def scale_data2(unscaled_X, unscaled_y):\n",
    "    \n",
    "    plt.hist(unscaled_y)\n",
    "    plt.show()\n",
    "    \n",
    "    scaler_X = StandardScaler()\n",
    "\n",
    "    X = scaler_X.fit_transform(unscaled_X)\n",
    "    y = unscaled_y / 5000\n",
    "    \n",
    "    return X, y, scaler_X\n"
   ]
  },
  {
   "cell_type": "code",
   "execution_count": 7,
   "metadata": {
    "collapsed": true
   },
   "outputs": [],
   "source": [
    "# Metric\n",
    "\n",
    "def acc_metric(y_true, y_pred):\n",
    "    \"\"\"\n",
    "    Accuracy\n",
    "    \"\"\"\n",
    "    diff = K.abs(y_pred - y_true) * 5000\n",
    "    \n",
    "    return K.mean(diff, axis=-1)\n"
   ]
  },
  {
   "cell_type": "code",
   "execution_count": 5,
   "metadata": {
    "collapsed": true
   },
   "outputs": [],
   "source": [
    "# Keras Model\n",
    "\n",
    "def get_model():\n",
    "\n",
    "    model = Sequential()\n",
    "    model.add(Dense(40, input_dim=len(general_stats), kernel_initializer='normal', activation='relu'))\n",
    "    model.add(Dropout(0.25))\n",
    "    model.add(Dense(40, kernel_initializer='normal', activation='relu'))\n",
    "    model.add(Dropout(0.25))\n",
    "    model.add(Dense(40, kernel_initializer='normal', activation='relu'))\n",
    "    model.add(Dense(1, kernel_initializer='normal'))\n",
    "\n",
    "    model.compile(loss='mean_squared_error', optimizer='adam') # MSE loss b/c regression\n",
    "    \n",
    "    return model\n",
    "\n",
    "def get_model2():\n",
    "        \n",
    "    model = Sequential()\n",
    "    model.add(Dense(13, input_dim=len(general_general_stats), kernel_initializer='normal', activation='relu'))\n",
    "    model.add(Dropout(0.25))\n",
    "    model.add(Dense(13, kernel_initializer='normal', activation='relu'))\n",
    "    model.add(Dropout(0.25))\n",
    "    model.add(Dense(13, kernel_initializer='normal', activation='relu'))\n",
    "    model.add(Dense(1, kernel_initializer='normal'))\n",
    "\n",
    "    model.compile(loss='mean_squared_error', optimizer='adam')\n",
    "    \n",
    "    return model\n",
    "\n",
    "def get_model3():\n",
    "        \n",
    "    model = Sequential()\n",
    "        \n",
    "    model.add(Dense(35, input_dim=len(hero_stats), kernel_initializer='normal', activation='relu'))\n",
    "    model.add(BatchNormalization())\n",
    "    model.add(Dropout(0.5))\n",
    "        \n",
    "    model.add(Dense(35, kernel_initializer='normal', activation='relu'))\n",
    "    model.add(BatchNormalization())\n",
    "    model.add(Dropout(0.5))\n",
    "        \n",
    "    model.add(Dense(35, kernel_initializer='normal', activation='relu'))\n",
    "    model.add(BatchNormalization())\n",
    "    model.add(Dropout(0.5))\n",
    "        \n",
    "    model.add(Dense(35, kernel_initializer='normal', activation='relu'))\n",
    "    model.add(BatchNormalization())\n",
    "    model.add(Dropout(0.5))\n",
    "    \n",
    "    model.add(Dense(35, kernel_initializer='normal', activation='relu'))\n",
    "    model.add(BatchNormalization())\n",
    "    model.add(Dropout(0.5))\n",
    "    \n",
    "    model.add(Dense(35, kernel_initializer='normal', activation='relu'))\n",
    "    model.add(BatchNormalization())\n",
    "    model.add(Dropout(0.5))\n",
    "    \n",
    "    model.add(Dense(35, kernel_initializer='normal', activation='relu'))\n",
    "    model.add(BatchNormalization())\n",
    "    model.add(Dropout(0.5))\n",
    "    \n",
    "    model.add(Dense(35, kernel_initializer='normal', activation='relu'))\n",
    "    \n",
    "    model.add(Dense(1))\n",
    "\n",
    "    model.compile(loss='mean_squared_error', optimizer='adam', metrics=[acc_metric])\n",
    "    \n",
    "    return model\n",
    "\n",
    "def get_model4():\n",
    "        \n",
    "    model = Sequential()\n",
    "    model.add(Dense(12, input_dim=len(general_hero_stats), kernel_initializer='normal', activation='relu'))\n",
    "    model.add(Dropout(0.25))\n",
    "    model.add(Dense(12, kernel_initializer='normal', activation='relu'))\n",
    "    model.add(Dropout(0.25))\n",
    "    model.add(Dense(12, kernel_initializer='normal', activation='relu'))\n",
    "    model.add(Dropout(0.25))\n",
    "    model.add(Dense(12, kernel_initializer='normal', activation='relu'))\n",
    "    model.add(Dropout(0.25))\n",
    "    model.add(Dense(12, kernel_initializer='normal', activation='relu'))\n",
    "    model.add(Dropout(0.25))\n",
    "    model.add(Dense(12, kernel_initializer='normal', activation='relu'))\n",
    "    model.add(Dense(1, kernel_initializer='normal'))\n",
    "\n",
    "    model.compile(loss='mean_squared_error', optimizer='adam')\n",
    "    \n",
    "    return model\n",
    "\n",
    "def get_model5():\n",
    "        \n",
    "    model = Sequential()\n",
    "    model.add(Dense(20, input_dim=3158, kernel_initializer='normal', activation='relu'))\n",
    "    model.add(Dropout(0.5))\n",
    "    model.add(Dense(20, kernel_initializer='normal', activation='relu'))\n",
    "    model.add(Dense(1, kernel_initializer='normal'))\n",
    "\n",
    "    model.compile(loss='mean_squared_error', optimizer='adam')\n",
    "    \n",
    "    return model\n",
    "\n",
    "def get_model_from_file():\n",
    "    \n",
    "    model = load_model(os.path.join('..', 'models', 'overall-sr.h5'))\n",
    "    scalar = joblib.load(os.path.join('..', 'models', 'overall-sr.pkl'))\n",
    "    \n",
    "    return model, scalar\n"
   ]
  },
  {
   "cell_type": "code",
   "execution_count": 6,
   "metadata": {
    "collapsed": true,
    "scrolled": false
   },
   "outputs": [],
   "source": [
    "# Learning function. Wrapper for keras model.fit( ... )\n",
    "\n",
    "def train_model(model, *args, **kwargs):\n",
    "    \n",
    "    # print(model.summary())\n",
    "\n",
    "    history = model.fit(*args, **kwargs, \n",
    "                        shuffle=True, \n",
    "                        validation_split=.10,\n",
    "                        verbose=0, \n",
    "                        callbacks=[EarlyStopping(patience=30)])\n",
    "    \n",
    "    return history\n"
   ]
  },
  {
   "cell_type": "code",
   "execution_count": 7,
   "metadata": {
    "collapsed": true
   },
   "outputs": [],
   "source": [
    "# Predict SR\n",
    "\n",
    "def predict_sr(model, player):\n",
    "    \n",
    "    stats_vector = np.array([get_vector_gamestats(player, 'us')])\n",
    "    \n",
    "    X = scaler_X.transform(stats_vector)\n",
    "\n",
    "    y_matrix = model.predict(X)\n",
    "    \n",
    "    sr = np.squeeze(scaler_y.inverse_transform(y_matrix))\n",
    "    \n",
    "    return int(sr)\n",
    "\n",
    "def predict_sr2(model, player, scaler_for_X, get_vector):\n",
    "    \n",
    "    stats_vector = np.array([get_vector(player, 'us')])\n",
    "    \n",
    "    X = scaler_for_X.transform(stats_vector)\n",
    "\n",
    "    y_matrix = model.predict(X)\n",
    "    \n",
    "    sr = np.squeeze(y_matrix) * 5000\n",
    "    \n",
    "    return int(sr)\n"
   ]
  },
  {
   "cell_type": "code",
   "execution_count": 8,
   "metadata": {
    "collapsed": true
   },
   "outputs": [],
   "source": [
    "# Stats\n",
    "\n",
    "def view(history):\n",
    "    \n",
    "    plt.plot(np.log(history.history['loss']))\n",
    "    plt.plot(np.log(history.history['val_loss']))\n",
    "    plt.title('Model Loss')\n",
    "    plt.ylabel('Log(loss)')\n",
    "    plt.xlabel('epoch')\n",
    "    plt.legend(['Train', 'Test'], loc='upper right')\n",
    "    plt.show()\n",
    "    \n",
    "    plt.plot(history.history['acc_metric'])\n",
    "    plt.plot(history.history['val_acc_metric'])\n",
    "    plt.title('Model Accuracy')\n",
    "    plt.ylabel('Avg Accuracy')\n",
    "    plt.xlabel('epoch')\n",
    "    plt.legend(['Train', 'Test'], loc='upper right')\n",
    "    plt.show()\n",
    "    "
   ]
  },
  {
   "cell_type": "code",
   "execution_count": 8,
   "metadata": {},
   "outputs": [
    {
     "name": "stdout",
     "output_type": "stream",
     "text": [
      "(12407, 2677)\n",
      "(12407,)\n"
     ]
    },
    {
     "data": {
      "image/png": "[encoded data removed]",
      "text/plain": [
       "<matplotlib.figure.Figure at 0x2c16f0965c0>"
      ]
     },
     "metadata": {},
     "output_type": "display_data"
    }
   ],
   "source": [
    "# Run (Load)\n",
    "\n",
    "if __name__ == \"__main__\":\n",
    "\n",
    "    get_vector = lambda player, region : get_vector_herostats(player, region)\n",
    "\n",
    "    X, y, scaler_X = scale_data2(*load_data(get_vector))\n"
   ]
  },
  {
   "cell_type": "code",
   "execution_count": 10,
   "metadata": {},
   "outputs": [
    {
     "data": {
      "image/png": "[encoded data removed]",
      "text/plain": [
       "<matplotlib.figure.Figure at 0x2274488ebe0>"
      ]
     },
     "metadata": {},
     "output_type": "display_data"
    },
    {
     "data": {
      "image/png": "[encoded data removed]",
      "text/plain": [
       "<matplotlib.figure.Figure at 0x22744f77fd0>"
      ]
     },
     "metadata": {},
     "output_type": "display_data"
    }
   ],
   "source": [
    "# Run (Train)\n",
    "\n",
    "if __name__ == \"__main__\":\n",
    "\n",
    "    model = get_model3()\n",
    "\n",
    "    history = train_model(model, X, y, epochs=1000, batch_size=32)\n",
    "    \n",
    "    model.save(os.path.join('..', 'models', 'overall-sr.h5'))\n",
    "    joblib.dump(scaler_X, os.path.join('..', 'models', 'overall-sr.pkl'))\n",
    "\n",
    "    view(history)\n"
   ]
  },
  {
   "cell_type": "code",
   "execution_count": null,
   "metadata": {
    "collapsed": true
   },
   "outputs": [],
   "source": [
    "# Run (Load from disk)\n",
    "\n",
    "if __name__ == \"__main__\":\n",
    "\n",
    "    get_vector = lambda player, region : get_vector_herostats(player, region)\n",
    "\n",
    "    model, scaler_X = get_model_from_file()\n"
   ]
  },
  {
   "cell_type": "code",
   "execution_count": null,
   "metadata": {
    "collapsed": true,
    "scrolled": true
   },
   "outputs": [],
   "source": [
    "# Run (Test)\n",
    "\n",
    "if __name__ == \"__main__\":\n",
    "\n",
    "    with open('test_names.txt', 'r') as test:\n",
    "\n",
    "        for battletag in find_usernames(test.read()):\n",
    "        \n",
    "            player = Player.from_web_battletag(battletag)\n",
    "        \n",
    "            actual = get_competitive_rank(player, 'us')\n",
    "            p = predict_sr2(model, player, scaler_X, get_vector)\n",
    "        \n",
    "            print('{} is {}, predicted {}'.format(battletag, actual, p))\n"
   ]
  }
 ],
 "metadata": {
  "kernelspec": {
   "display_name": "Python [conda env:tf-cpu]",
   "language": "python",
   "name": "conda-env-tf-cpu-py"
  },
  "language_info": {
   "codemirror_mode": {
    "name": "ipython",
    "version": 3
   },
   "file_extension": ".py",
   "mimetype": "text/x-python",
   "name": "python",
   "nbconvert_exporter": "python",
   "pygments_lexer": "ipython3",
   "version": "3.5.4"
  }
 },
 "nbformat": 4,
 "nbformat_minor": 2
}
