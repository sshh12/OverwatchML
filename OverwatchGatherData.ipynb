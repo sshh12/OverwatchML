{
 "cells": [
  {
   "cell_type": "code",
   "execution_count": 1,
   "metadata": {
    "collapsed": true
   },
   "outputs": [],
   "source": [
    "# Imports\n",
    "\n",
    "import requests\n",
    "import base64\n",
    "import praw\n",
    "import time\n",
    "import json\n",
    "import re\n",
    "import os"
   ]
  },
  {
   "cell_type": "code",
   "execution_count": 2,
   "metadata": {
    "collapsed": true
   },
   "outputs": [],
   "source": [
    "# Reddit Config\n",
    "\n",
    "# reddit = praw.Reddit(client_id='', client_secret='', user_agent='')\n"
   ]
  },
  {
   "cell_type": "code",
   "execution_count": 3,
   "metadata": {
    "collapsed": true,
    "scrolled": false
   },
   "outputs": [],
   "source": [
    "# Tools\n",
    "\n",
    "def find_usernames(text): # Text -> list<Battletags>\n",
    "    \n",
    "    for battletag in re.findall('[^\\s=,\"*>+#\\'\\\\^]{3,12}#\\d{4,5}', text):\n",
    "        \n",
    "        battletag = battletag.strip()\n",
    "        \n",
    "        yield battletag\n",
    "\n",
    "def get_user_json(battletag): # Battletag -> JSON\n",
    "    \n",
    "    battletag = battletag.replace('#', '-')\n",
    "    \n",
    "    text = requests.get('https://owapi.net/api/v3/u/{}/blob'.format(battletag), headers={'User-Agent':'OWAgent'}).text\n",
    "    \n",
    "    if \"ratelimited\" in text:\n",
    "        \n",
    "        time.sleep(4)\n",
    "        \n",
    "        return get_user_json(battletag)\n",
    "    \n",
    "    else:\n",
    "        \n",
    "        return text\n",
    "\n",
    "def save_profile(battletag): # Battletag -> file.json\n",
    "    \n",
    "    print('Saving: ' + battletag)\n",
    "    \n",
    "    os.makedirs('profiles', exist_ok=True)\n",
    "    \n",
    "    b64_name = str(base64.b64encode(battletag.encode('utf-8')))[2:-1]\n",
    "    filename = b64_name + \".json\"\n",
    "    \n",
    "    if filename not in os.listdir('profiles'):\n",
    "        \n",
    "        data = get_user_json(battletag)\n",
    "        \n",
    "        if \"error\" not in data:\n",
    "            \n",
    "            with open(os.path.join('profiles', filename), 'w') as profile:\n",
    "                \n",
    "                profile.write(data)\n",
    "                \n",
    "            print('Saved: ' + battletag)\n",
    "            \n",
    "        else:\n",
    "            \n",
    "            print(data)\n",
    "        "
   ]
  },
  {
   "cell_type": "code",
   "execution_count": 4,
   "metadata": {
    "collapsed": true
   },
   "outputs": [],
   "source": [
    "# Player Object\n",
    "\n",
    "class Player(object):\n",
    "\n",
    "    def __init__(self, json_string):\n",
    "\n",
    "        self.json = json.loads(json_string)\n",
    "\n",
    "    @classmethod\n",
    "    def from_file(self, filename):\n",
    "\n",
    "        with open(filename, 'r') as profile:\n",
    "\n",
    "            return Player(profile.read())\n",
    "        \n",
    "    @classmethod\n",
    "    def from_web_battletag(self, battletag):\n",
    "        \n",
    "        json = get_user_json(battletag)\n",
    "        \n",
    "        if \"error\" not in json:\n",
    "\n",
    "            return Player(json)\n",
    "        \n",
    "        raise Exception('Battletag Error ' + json)\n",
    "\n",
    "    def get_regions(self):\n",
    "\n",
    "        regions_with_data = []\n",
    "\n",
    "        for region in ['us', 'eu', 'kr']:\n",
    "\n",
    "            if self.json[region]:\n",
    "\n",
    "                regions_with_data.append(region)\n",
    "\n",
    "        return regions_with_data\n"
   ]
  },
  {
   "cell_type": "code",
   "execution_count": 5,
   "metadata": {
    "collapsed": true,
    "scrolled": false
   },
   "outputs": [],
   "source": [
    "# Reddit Data\n",
    "\n",
    "subreddits = ['Overwatch', 'CompetitiveOverwatch', 'OverwatchUniversity', 'Overwatch_Memes', 'Overwatched', 'OverwatchCustomGames',\n",
    "              'OverwatchCirclejerk', 'wholesomeoverwatch','ImaginaryOverwatch', 'Overwatch_comics', 'OverwatchHeroConcepts',\n",
    "              'OverwatchLore', 'OverwatchLeague', 'AnaMains', 'HanaSong', 'luciomains', 'LucioRollouts', 'McCreeMains', \n",
    "              'MeiMains', 'SymmetraMains', 'WidowmakerMains', 'ZaryaMains', 'ZenyattaMains', 'Hearthstone']\n",
    "\n",
    "def generate_reddit_text(subreddit): # Subreddit -> the content of as many comments possible\n",
    "    \n",
    "    for submission in reddit.subreddit(subreddit).hot(limit=None):\n",
    "        \n",
    "        submission.comments.replace_more(limit=0)\n",
    "        \n",
    "        for comment in submission.comments.list():\n",
    "            \n",
    "            yield comment.body\n",
    "            \n",
    "def dl_reddit(): # Gathers data from reddit\n",
    "\n",
    "    for sub in subreddits:\n",
    "\n",
    "        for data in generate_reddit_text(sub):\n",
    "\n",
    "            for battletag in find_usernames(data):\n",
    "\n",
    "                save_profile(battletag)\n"
   ]
  },
  {
   "cell_type": "code",
   "execution_count": 6,
   "metadata": {
    "collapsed": true
   },
   "outputs": [],
   "source": [
    "# Reddit Spreedsheet Data\n",
    "# Thanks to https://www.reddit.com/r/Overwatch/comments/3qqs44/official_find_friends_by_posting_your_battletag/\n",
    "\n",
    "public_spreedsheet_url = \"https://docs.google.com/spreadsheets/d/e/2PACX-1vRDbeVQe3Fi0vmodOHx3JeHpRteqjoUPgppklYaWeZe81i_vm0oavsEQUjLaoVHJNLbMe2EwubkXdXm/pub?output=csv\"\n",
    "\n",
    "def get_spreedsheet_text(url): # Gets content of spreedsheet\n",
    "    \n",
    "    return requests.get(url).text\n",
    "\n",
    "def dl_spreedsheet(): # Retrieves all 1000+ battletags from the spreedsheet\n",
    "    \n",
    "    data = get_spreedsheet_text(public_spreedsheet_url)\n",
    "    \n",
    "    for battletag in find_usernames(data):\n",
    "        \n",
    "        save_profile(battletag)\n"
   ]
  },
  {
   "cell_type": "code",
   "execution_count": 7,
   "metadata": {
    "collapsed": true
   },
   "outputs": [],
   "source": [
    "# Run\n",
    "\n",
    "# dl_spreedsheet()\n",
    "# dl_reddit()"
   ]
  }
 ],
 "metadata": {
  "kernelspec": {
   "display_name": "Python [conda env:tf-gpu]",
   "language": "python",
   "name": "conda-env-tf-gpu-py"
  },
  "language_info": {
   "codemirror_mode": {
    "name": "ipython",
    "version": 3
   },
   "file_extension": ".py",
   "mimetype": "text/x-python",
   "name": "python",
   "nbconvert_exporter": "python",
   "pygments_lexer": "ipython3",
   "version": "3.5.3"
  }
 },
 "nbformat": 4,
 "nbformat_minor": 2
}
