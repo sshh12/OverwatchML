{
 "cells": [
  {
   "cell_type": "code",
   "execution_count": 1,
   "metadata": {},
   "outputs": [
    {
     "name": "stderr",
     "output_type": "stream",
     "text": [
      "Using TensorFlow backend.\n"
     ]
    }
   ],
   "source": [
    "# Imports\n",
    "\n",
    "from OverwatchProcessData import get_vector_combined, get_vector_gamestats, get_vector_herostats\n",
    "from OverwatchProcessData import get_competitive_rank, general_stats, hero_stats\n",
    "from OverwatchGatherData import Player, find_usernames\n",
    "\n",
    "import numpy as np\n",
    "import os\n",
    "\n",
    "np.random.seed(3)\n",
    "\n",
    "from sklearn.preprocessing import StandardScaler\n",
    "from sklearn.externals import joblib\n",
    "\n",
    "from keras.layers.normalization import BatchNormalization\n",
    "from keras.models import Sequential, load_model\n",
    "from keras.callbacks import EarlyStopping\n",
    "from keras.layers import Dense, Dropout\n",
    "\n",
    "import matplotlib.pyplot as plt"
   ]
  },
  {
   "cell_type": "code",
   "execution_count": 2,
   "metadata": {
    "collapsed": true,
    "scrolled": true
   },
   "outputs": [],
   "source": [
    "# Load Data\n",
    "\n",
    "## Creating Custom Metrics\n",
    "\n",
    "general_general_stats = ['kpd']\n",
    "\n",
    "for stat in general_stats:\n",
    "\n",
    "    if 'avg' in stat:\n",
    "\n",
    "        general_general_stats.append(stat)\n",
    "        \n",
    "general_hero_stats = []\n",
    "\n",
    "for stat in hero_stats:\n",
    "\n",
    "    if 'avg' in stat:\n",
    "\n",
    "        general_hero_stats.append(stat)\n",
    "        \n",
    "## Loading Data\n",
    "        \n",
    "def generate_players():\n",
    "    \n",
    "    for filename in os.listdir('profiles'):\n",
    "        \n",
    "        player = Player.from_file(os.path.join('profiles', filename))\n",
    "        \n",
    "        if 'error' not in player.json:\n",
    "            \n",
    "            yield player\n",
    "\n",
    "def load_data(get_vector):\n",
    "\n",
    "    unscaled_X, unscaled_y = [], []\n",
    "\n",
    "    for player in generate_players():\n",
    "\n",
    "        rank = get_competitive_rank(player, 'us')\n",
    "\n",
    "        if rank:\n",
    "            \n",
    "            playtime = player.json['us']['stats']['competitive']['game_stats']['time_played']\n",
    "            \n",
    "            if playtime > 10:\n",
    "\n",
    "                unscaled_X.append(get_vector(player, 'us'))\n",
    "                unscaled_y.append(rank)\n",
    "\n",
    "    unscaled_X = np.array(unscaled_X, dtype=np.float64)\n",
    "    unscaled_y = np.array(unscaled_y, dtype=np.float64)\n",
    "    \n",
    "    print(unscaled_X.shape)\n",
    "    print(unscaled_y.shape)\n",
    "    \n",
    "    return unscaled_X, unscaled_y\n"
   ]
  },
  {
   "cell_type": "code",
   "execution_count": 3,
   "metadata": {
    "collapsed": true
   },
   "outputs": [],
   "source": [
    "# Standardize Data\n",
    "\n",
    "def scale_data(unscaled_X, unscaled_y):\n",
    "    \n",
    "    scaler_X = StandardScaler()\n",
    "    scaler_y = StandardScaler(with_mean=False) # SR is 1-5000 so scaling w/mean has weird effects\n",
    "\n",
    "    X = scaler_X.fit_transform(unscaled_X)\n",
    "    y = np.squeeze(scaler_y.fit_transform(unscaled_y.reshape(-1, 1)))\n",
    "    \n",
    "    return X, y, scaler_X, scaler_y\n",
    "\n",
    "def scale_data2(unscaled_X, unscaled_y):\n",
    "    \n",
    "    scaler_X = StandardScaler()\n",
    "\n",
    "    X = scaler_X.fit_transform(unscaled_X)\n",
    "    y = unscaled_y / 5000\n",
    "    \n",
    "    return X, y, scaler_X\n"
   ]
  },
  {
   "cell_type": "code",
   "execution_count": 4,
   "metadata": {
    "collapsed": true
   },
   "outputs": [],
   "source": [
    "# Keras Model\n",
    "\n",
    "def get_model():\n",
    "\n",
    "    model = Sequential()\n",
    "    model.add(Dense(40, input_dim=len(general_stats), kernel_initializer='normal', activation='relu'))\n",
    "    model.add(Dropout(0.25))\n",
    "    model.add(Dense(40, kernel_initializer='normal', activation='relu'))\n",
    "    model.add(Dropout(0.25))\n",
    "    model.add(Dense(40, kernel_initializer='normal', activation='relu'))\n",
    "    model.add(Dense(1, kernel_initializer='normal'))\n",
    "\n",
    "    model.compile(loss='mean_squared_error', optimizer='adam') # MSE loss b/c regression\n",
    "    \n",
    "    return model\n",
    "\n",
    "def get_model2():\n",
    "        \n",
    "    model = Sequential()\n",
    "    model.add(Dense(13, input_dim=len(general_general_stats), kernel_initializer='normal', activation='relu'))\n",
    "    model.add(Dropout(0.25))\n",
    "    model.add(Dense(13, kernel_initializer='normal', activation='relu'))\n",
    "    model.add(Dropout(0.25))\n",
    "    model.add(Dense(13, kernel_initializer='normal', activation='relu'))\n",
    "    model.add(Dense(1, kernel_initializer='normal'))\n",
    "\n",
    "    model.compile(loss='mean_squared_error', optimizer='adam')\n",
    "    \n",
    "    return model\n",
    "\n",
    "def get_model3():\n",
    "        \n",
    "    model = Sequential()\n",
    "        \n",
    "    model.add(Dense(14, input_dim=len(hero_stats), kernel_initializer='normal', activation='relu'))\n",
    "    model.add(BatchNormalization())\n",
    "    model.add(Dropout(0.5))\n",
    "        \n",
    "    model.add(Dense(14, kernel_initializer='normal', activation='relu'))\n",
    "    model.add(BatchNormalization())\n",
    "    model.add(Dropout(0.5))\n",
    "        \n",
    "    model.add(Dense(14, kernel_initializer='normal', activation='relu'))\n",
    "    model.add(BatchNormalization())\n",
    "    model.add(Dropout(0.5))\n",
    "        \n",
    "    model.add(Dense(14, kernel_initializer='normal', activation='relu'))\n",
    "    model.add(BatchNormalization())\n",
    "    model.add(Dropout(0.5))\n",
    "    \n",
    "    model.add(Dense(14, kernel_initializer='normal', activation='relu'))\n",
    "    \n",
    "    model.add(Dense(1))\n",
    "\n",
    "    model.compile(loss='mean_squared_error', optimizer='adam')\n",
    "    \n",
    "    return model\n",
    "\n",
    "def get_model4():\n",
    "        \n",
    "    model = Sequential()\n",
    "    model.add(Dense(12, input_dim=len(general_hero_stats), kernel_initializer='normal', activation='relu'))\n",
    "    model.add(Dropout(0.25))\n",
    "    model.add(Dense(12, kernel_initializer='normal', activation='relu'))\n",
    "    model.add(Dropout(0.25))\n",
    "    model.add(Dense(12, kernel_initializer='normal', activation='relu'))\n",
    "    model.add(Dropout(0.25))\n",
    "    model.add(Dense(12, kernel_initializer='normal', activation='relu'))\n",
    "    model.add(Dropout(0.25))\n",
    "    model.add(Dense(12, kernel_initializer='normal', activation='relu'))\n",
    "    model.add(Dropout(0.25))\n",
    "    model.add(Dense(12, kernel_initializer='normal', activation='relu'))\n",
    "    model.add(Dense(1, kernel_initializer='normal'))\n",
    "\n",
    "    model.compile(loss='mean_squared_error', optimizer='adam')\n",
    "    \n",
    "    return model\n",
    "\n",
    "def get_model5():\n",
    "        \n",
    "    model = Sequential()\n",
    "    model.add(Dense(20, input_dim=3158, kernel_initializer='normal', activation='relu'))\n",
    "    model.add(Dropout(0.5))\n",
    "    model.add(Dense(20, kernel_initializer='normal', activation='relu'))\n",
    "    model.add(Dense(1, kernel_initializer='normal'))\n",
    "\n",
    "    model.compile(loss='mean_squared_error', optimizer='adam')\n",
    "    \n",
    "    return model\n",
    "\n",
    "def get_model_from_file():\n",
    "    \n",
    "    model = load_model(os.path.join('models', 'overall-sr.h5'))\n",
    "    scalar = joblib.load(os.path.join('models', 'overall-sr.pkl'))\n",
    "    \n",
    "    return model, scalar\n"
   ]
  },
  {
   "cell_type": "code",
   "execution_count": 5,
   "metadata": {
    "collapsed": true,
    "scrolled": false
   },
   "outputs": [],
   "source": [
    "# Learning function. Wrapper for keras model.fit( ... )\n",
    "\n",
    "def train_model(model, *args, **kwargs):\n",
    "    \n",
    "    # print(model.summary())\n",
    "\n",
    "    history = model.fit(*args, **kwargs, shuffle=True, validation_split=.10, verbose=0, callbacks=[EarlyStopping(patience=30)])\n",
    "    \n",
    "    return history\n"
   ]
  },
  {
   "cell_type": "code",
   "execution_count": 6,
   "metadata": {
    "collapsed": true
   },
   "outputs": [],
   "source": [
    "# Predict SR\n",
    "\n",
    "def predict_sr(model, player):\n",
    "    \n",
    "    stats_vector = np.array([get_vector_gamestats(player, 'us')])\n",
    "    \n",
    "    X = scaler_X.transform(stats_vector)\n",
    "\n",
    "    y_matrix = model.predict(X)\n",
    "    \n",
    "    sr = np.squeeze(scaler_y.inverse_transform(y_matrix))\n",
    "    \n",
    "    return int(sr)\n",
    "\n",
    "def predict_sr2(model, player, scaler_for_X, get_vector):\n",
    "    \n",
    "    stats_vector = np.array([get_vector(player, 'us')])\n",
    "    \n",
    "    X = scaler_for_X.transform(stats_vector)\n",
    "\n",
    "    y_matrix = model.predict(X)\n",
    "    \n",
    "    sr = np.squeeze(y_matrix) * 5000\n",
    "    \n",
    "    return int(sr)\n"
   ]
  },
  {
   "cell_type": "code",
   "execution_count": 7,
   "metadata": {
    "collapsed": true
   },
   "outputs": [],
   "source": [
    "# Stats\n",
    "\n",
    "def view(history):\n",
    "    \n",
    "    plt.plot(np.log(history.history['loss']))\n",
    "    plt.plot(np.log(history.history['val_loss']))\n",
    "    plt.title('Model Loss')\n",
    "    plt.ylabel('Log(loss)')\n",
    "    plt.xlabel('epoch')\n",
    "    plt.legend(['Train', 'Test'], loc='upper right')\n",
    "    plt.show()\n",
    "    \n",
    "    plt.plot(np.sqrt(history.history['loss']) * 5000)\n",
    "    plt.plot(np.sqrt(history.history['val_loss']) * 5000)\n",
    "    plt.title('Model Accuracy')\n",
    "    plt.ylabel('Avg Accuracy')\n",
    "    plt.xlabel('epoch')\n",
    "    plt.ylim([0, 1250])\n",
    "    plt.legend(['Train', 'Test'], loc='upper right')\n",
    "    plt.show()\n",
    "    "
   ]
  },
  {
   "cell_type": "code",
   "execution_count": 8,
   "metadata": {},
   "outputs": [
    {
     "name": "stdout",
     "output_type": "stream",
     "text": [
      "(10493, 3090)\n",
      "(10493,)\n"
     ]
    },
    {
     "data": {
      "image/png": "[encoded data removed]",
      "text/plain": [
       "<matplotlib.figure.Figure at 0x245ba5a3a20>"
      ]
     },
     "metadata": {},
     "output_type": "display_data"
    },
    {
     "data": {
      "image/png": "[encoded data removed]",
      "text/plain": [
       "<matplotlib.figure.Figure at 0x245d4d4ea90>"
      ]
     },
     "metadata": {},
     "output_type": "display_data"
    }
   ],
   "source": [
    "# Run\n",
    "\n",
    "# get_vector = lambda player, region : get_vector_herostats(player, region, stat_keys=general_hero_stats)\n",
    "get_vector = lambda player, region : get_vector_herostats(player, region)\n",
    "\n",
    "X, y, scaler_X = scale_data2(*load_data(get_vector))\n",
    "\n",
    "# model = get_model4()\n",
    "model = get_model3()\n",
    "\n",
    "history = train_model(model, X, y, epochs=1000, batch_size=512)\n",
    "\n",
    "model.save(os.path.join('models', 'overall-sr.h5'))\n",
    "joblib.dump(scaler_X, os.path.join('models', 'overall-sr.pkl'))\n",
    "\n",
    "view(history)\n"
   ]
  },
  {
   "cell_type": "code",
   "execution_count": 9,
   "metadata": {
    "collapsed": true
   },
   "outputs": [],
   "source": [
    "# Load from disk\n",
    "\n",
    "get_vector = lambda player, region : get_vector_herostats(player, region)\n",
    "\n",
    "model, scaler_X = get_model_from_file()\n"
   ]
  },
  {
   "cell_type": "code",
   "execution_count": null,
   "metadata": {
    "scrolled": true
   },
   "outputs": [],
   "source": [
    "# Test\n",
    "\n",
    "with open('test_names.txt', 'r') as test:\n",
    "\n",
    "    for battletag in find_usernames(test.read()):\n",
    "        \n",
    "        player = Player.from_web_battletag(battletag)\n",
    "        \n",
    "        actual = get_competitive_rank(player, 'us')\n",
    "        p = predict_sr2(model, player, scaler_X, get_vector)\n",
    "        \n",
    "        print('{} is {}, predicted {}'.format(battletag, actual, p))\n"
   ]
  }
 ],
 "metadata": {
  "kernelspec": {
   "display_name": "Python [conda env:tf-gpu]",
   "language": "python",
   "name": "conda-env-tf-gpu-py"
  },
  "language_info": {
   "codemirror_mode": {
    "name": "ipython",
    "version": 3
   },
   "file_extension": ".py",
   "mimetype": "text/x-python",
   "name": "python",
   "nbconvert_exporter": "python",
   "pygments_lexer": "ipython3",
   "version": "3.5.3"
  }
 },
 "nbformat": 4,
 "nbformat_minor": 2
}
