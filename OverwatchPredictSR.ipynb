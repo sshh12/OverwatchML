{
 "cells": [
  {
   "cell_type": "code",
   "execution_count": 1,
   "metadata": {},
   "outputs": [
    {
     "name": "stderr",
     "output_type": "stream",
     "text": [
      "Using TensorFlow backend.\n"
     ]
    }
   ],
   "source": [
    "# Imports\n",
    "\n",
    "from OverwatchProcessData import get_competitive_rank, get_vector_gamestats, general_stats\n",
    "from OverwatchGatherData import Player, find_usernames\n",
    "\n",
    "from sklearn.preprocessing import StandardScaler\n",
    "from keras.models import Sequential\n",
    "from keras.layers import Dense, Dropout\n",
    "\n",
    "import matplotlib.pyplot as plt\n",
    "\n",
    "import numpy as np\n",
    "import os\n",
    "\n",
    "np.random.seed(5)"
   ]
  },
  {
   "cell_type": "code",
   "execution_count": 2,
   "metadata": {
    "collapsed": true
   },
   "outputs": [],
   "source": [
    "# Load Data\n",
    "\n",
    "general_general_stats = [\"kpd\"]\n",
    "\n",
    "for stat in general_stats:\n",
    "\n",
    "    if \"avg\" in stat:\n",
    "\n",
    "        general_general_stats.append(stat)\n",
    "\n",
    "def load_data():\n",
    "\n",
    "    unscaled_X, unscaled_y = [], []\n",
    "\n",
    "    for filename in os.listdir('profiles'):\n",
    "\n",
    "        player = Player.from_file(os.path.join('profiles', filename))\n",
    "\n",
    "        rank = get_competitive_rank(player, 'us')\n",
    "\n",
    "        if rank: # Only use data w/rank attached\n",
    "\n",
    "            unscaled_X.append(get_vector_gamestats(player, 'us', 'competitive'))\n",
    "            unscaled_y.append(rank)\n",
    "\n",
    "    unscaled_X = np.array(unscaled_X, dtype=np.float64)\n",
    "    unscaled_y = np.array(unscaled_y, dtype=np.float64)\n",
    "    \n",
    "    return unscaled_X, unscaled_y\n",
    "\n",
    "def load_data2():\n",
    "\n",
    "    unscaled_X, unscaled_y = [], []\n",
    "\n",
    "    for filename in os.listdir('profiles'):\n",
    "\n",
    "        player = Player.from_file(os.path.join('profiles', filename))\n",
    "\n",
    "        rank = get_competitive_rank(player, 'us')\n",
    "\n",
    "        if rank: # Only use data w/rank attached\n",
    "\n",
    "            unscaled_X.append(get_vector_gamestats(player, 'us', 'competitive', stat_keys=general_general_stats))\n",
    "            unscaled_y.append(rank)\n",
    "\n",
    "    unscaled_X = np.array(unscaled_X, dtype=np.float64)\n",
    "    unscaled_y = np.array(unscaled_y, dtype=np.float64)\n",
    "    \n",
    "    return unscaled_X, unscaled_y\n"
   ]
  },
  {
   "cell_type": "code",
   "execution_count": 3,
   "metadata": {
    "collapsed": true
   },
   "outputs": [],
   "source": [
    "# Standardize Data\n",
    "\n",
    "def scale_data(unscaled_X, unscaled_y):\n",
    "    \n",
    "    scaler_X = StandardScaler()\n",
    "    scaler_y = StandardScaler(with_mean=False) # SR is 1-5000 so scaling w/mean has weird effects\n",
    "\n",
    "    X = scaler_X.fit_transform(unscaled_X)\n",
    "    y = np.squeeze(scaler_y.fit_transform(unscaled_y.reshape(-1, 1)))\n",
    "    \n",
    "    return X, y, scaler_X, scaler_y\n",
    "\n",
    "def scale_data2(unscaled_X, unscaled_y):\n",
    "    \n",
    "    scaler_X = StandardScaler()\n",
    "\n",
    "    X = scaler_X.fit_transform(unscaled_X)\n",
    "    y = unscaled_y\n",
    "    \n",
    "    return X, y, scaler_X\n"
   ]
  },
  {
   "cell_type": "code",
   "execution_count": 4,
   "metadata": {
    "collapsed": true
   },
   "outputs": [],
   "source": [
    "# Keras Model\n",
    "\n",
    "def get_model():\n",
    "\n",
    "    model = Sequential()\n",
    "    model.add(Dense(50, input_dim=68, kernel_initializer='normal', activation='relu'))\n",
    "    model.add(Dropout(0.25))\n",
    "    model.add(Dense(40, kernel_initializer='normal', activation='relu'))\n",
    "    model.add(Dropout(0.25))\n",
    "    model.add(Dense(30, kernel_initializer='normal', activation='relu'))\n",
    "    model.add(Dense(1, kernel_initializer='normal'))\n",
    "\n",
    "    model.compile(loss='mean_squared_error', optimizer='adam') # MSE loss b/c regression\n",
    "    \n",
    "    return model\n",
    "\n",
    "def get_model2():\n",
    "\n",
    "    model = Sequential()\n",
    "    model.add(Dense(12, input_dim=13, kernel_initializer='normal', activation='relu'))\n",
    "    model.add(Dropout(0.1))\n",
    "    model.add(Dense(20, kernel_initializer='normal', activation='relu'))\n",
    "    model.add(Dropout(0.1))\n",
    "    model.add(Dense(50, kernel_initializer='normal', activation='relu'))\n",
    "    model.add(Dense(1, kernel_initializer='normal'))\n",
    "\n",
    "    model.compile(loss='mean_squared_error', optimizer='adam') # MSE loss b/c regression\n",
    "    \n",
    "    return model\n"
   ]
  },
  {
   "cell_type": "code",
   "execution_count": 5,
   "metadata": {
    "collapsed": true,
    "scrolled": false
   },
   "outputs": [],
   "source": [
    "# Learning function. Wrapper for keras model.fit( ... )\n",
    "\n",
    "def fit_to_data(model, *args, **kwargs):\n",
    "\n",
    "    history = model.fit(*args, **kwargs, shuffle=True, verbose=0)\n",
    "    \n",
    "    return history\n",
    "\n",
    "def fit_to_data2(model, *args, **kwargs):\n",
    "\n",
    "    history = model.fit(*args, **kwargs, shuffle=True, verbose=0)\n",
    "    \n",
    "    return history\n"
   ]
  },
  {
   "cell_type": "code",
   "execution_count": 6,
   "metadata": {
    "collapsed": true
   },
   "outputs": [],
   "source": [
    "# Predict SR\n",
    "\n",
    "def predict_sr(model, player):\n",
    "    \n",
    "    stats_vector = np.array([get_vector_gamestats(player, 'us', 'competitive')])\n",
    "    \n",
    "    X = scaler_X.transform(stats_vector)\n",
    "\n",
    "    y_matrix = model.predict(X)\n",
    "    \n",
    "    sr = np.squeeze(scaler_y.inverse_transform(y_matrix))\n",
    "    \n",
    "    return int(sr)\n",
    "\n",
    "def predict_sr2(model, player):\n",
    "    \n",
    "    stats_vector = np.array([get_vector_gamestats(player, 'us', 'competitive', stat_keys=general_general_stats)])\n",
    "    \n",
    "    X = scaler_X2.transform(stats_vector)\n",
    "\n",
    "    y_matrix = model.predict(X)\n",
    "    \n",
    "    sr = np.squeeze(y_matrix)\n",
    "    \n",
    "    return int(sr)\n"
   ]
  },
  {
   "cell_type": "code",
   "execution_count": 7,
   "metadata": {},
   "outputs": [
    {
     "data": {
      "image/png": "[encoded data removed]",
      "text/plain": [
       "<matplotlib.figure.Figure at 0x254a17d76a0>"
      ]
     },
     "metadata": {},
     "output_type": "display_data"
    },
    {
     "data": {
      "image/png": "[encoded data removed]",
      "text/plain": [
       "<matplotlib.figure.Figure at 0x254a2e80b00>"
      ]
     },
     "metadata": {},
     "output_type": "display_data"
    }
   ],
   "source": [
    "# Loads and trains model\n",
    "\n",
    "# Model 1\n",
    "\n",
    "X, y, scaler_X, scaler_y = scale_data(*load_data())\n",
    "\n",
    "model = get_model()\n",
    "\n",
    "history = fit_to_data(model, X, y, epochs=500, batch_size=128, validation_split=.10)\n",
    "\n",
    "model.save('overwatch-sr-1.h5')\n",
    "\n",
    "# Model 2\n",
    "\n",
    "X2, y2, scaler_X2 = scale_data2(*load_data2())\n",
    "\n",
    "model2 = get_model2()\n",
    "\n",
    "history2 = fit_to_data2(model2, X2, y2, epochs=500, batch_size=128, validation_split=.10)\n",
    "\n",
    "model2.save('overwatch-sr-2.h5')\n",
    "\n",
    "# Plot loss\n",
    "\n",
    "plt.plot(np.log(history.history['loss']))\n",
    "plt.plot(np.log(history.history['val_loss']))\n",
    "plt.title('Model Loss')\n",
    "plt.ylabel('loss')\n",
    "plt.xlabel('epoch')\n",
    "plt.legend(['Train', 'Test'], loc='upper right')\n",
    "plt.show()\n",
    "\n",
    "plt.plot(np.log(history2.history['loss']))\n",
    "plt.plot(np.log(history2.history['val_loss']))\n",
    "plt.title('Model2 Loss')\n",
    "plt.ylabel('loss')\n",
    "plt.xlabel('epoch')\n",
    "plt.legend(['Train', 'Test'], loc='upper right')\n",
    "plt.show()\n"
   ]
  },
  {
   "cell_type": "code",
   "execution_count": 8,
   "metadata": {},
   "outputs": [
    {
     "name": "stdout",
     "output_type": "stream",
     "text": [
      "sshh12#1522 is 2253, predicted 1928, 2470\n",
      "redpuma200#1798 is 2612, predicted 2264, 2588\n",
      "Panzerjaeger#11644 is 2473, predicted 2781, 2586\n",
      "EXcalibr#1962 is 2069, predicted 2993, 2418\n",
      "TimN11#1443 is 2465, predicted 1993, 2344\n",
      "Battledik#11416 is 2228, predicted 1898, 2320\n",
      "Tobirama#11276 is 2727, predicted 2449, 2587\n"
     ]
    }
   ],
   "source": [
    "\n",
    "with open('test_names.txt', 'r') as test:\n",
    "\n",
    "    for battletag in find_usernames(test.read()):\n",
    "        \n",
    "        player = Player.from_web_battletag(battletag)\n",
    "        \n",
    "        actual = get_competitive_rank(player, 'us')\n",
    "        p1 = predict_sr(model, player)\n",
    "        p2 = predict_sr2(model2, player)\n",
    "        \n",
    "        print(\"{} is {}, predicted {}, {}\".format(battletag, actual, p1, p2))\n"
   ]
  }
 ],
 "metadata": {
  "kernelspec": {
   "display_name": "Python [conda env:tf-gpu]",
   "language": "python",
   "name": "conda-env-tf-gpu-py"
  },
  "language_info": {
   "codemirror_mode": {
    "name": "ipython",
    "version": 3
   },
   "file_extension": ".py",
   "mimetype": "text/x-python",
   "name": "python",
   "nbconvert_exporter": "python",
   "pygments_lexer": "ipython3",
   "version": "3.5.3"
  }
 },
 "nbformat": 4,
 "nbformat_minor": 2
}
