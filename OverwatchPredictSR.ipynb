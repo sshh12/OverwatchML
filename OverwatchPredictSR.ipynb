{
 "cells": [
  {
   "cell_type": "code",
   "execution_count": 1,
   "metadata": {},
   "outputs": [
    {
     "name": "stderr",
     "output_type": "stream",
     "text": [
      "Using TensorFlow backend.\n"
     ]
    }
   ],
   "source": [
    "# Imports\n",
    "\n",
    "from OverwatchProcessData import get_vector_combined, get_vector_gamestats, get_vector_herostats\n",
    "from OverwatchProcessData import get_competitive_rank, general_stats, hero_stats\n",
    "from OverwatchGatherData import Player, find_usernames\n",
    "\n",
    "import numpy as np\n",
    "import os\n",
    "\n",
    "np.random.seed(3)\n",
    "\n",
    "from sklearn.preprocessing import StandardScaler\n",
    "from keras.layers import Dense, Dropout\n",
    "from keras.models import Sequential, load_model\n",
    "\n",
    "import matplotlib.pyplot as plt\n"
   ]
  },
  {
   "cell_type": "code",
   "execution_count": 2,
   "metadata": {
    "collapsed": true,
    "scrolled": true
   },
   "outputs": [],
   "source": [
    "# Load Data\n",
    "\n",
    "## Creating Custom Metrics\n",
    "\n",
    "general_general_stats = [\"kpd\"]\n",
    "\n",
    "for stat in general_stats:\n",
    "\n",
    "    if \"avg\" in stat:\n",
    "\n",
    "        general_general_stats.append(stat)\n",
    "        \n",
    "general_hero_stats = []\n",
    "\n",
    "for stat in hero_stats:\n",
    "\n",
    "    if \"avg\" in stat:\n",
    "\n",
    "        general_hero_stats.append(stat)\n",
    "        \n",
    "## Loading Data\n",
    "        \n",
    "def generate_players():\n",
    "    \n",
    "    for filename in os.listdir('profiles'):\n",
    "        \n",
    "        player = Player.from_file(os.path.join('profiles', filename))\n",
    "        \n",
    "        if 'error' not in player.json:\n",
    "            \n",
    "            yield player\n",
    "\n",
    "def load_data(get_vector):\n",
    "\n",
    "    unscaled_X, unscaled_y = [], []\n",
    "\n",
    "    for player in generate_players():\n",
    "\n",
    "        rank = get_competitive_rank(player, 'us')\n",
    "        rank2 = get_competitive_rank(player, 'eu')\n",
    "\n",
    "        if rank:\n",
    "\n",
    "            unscaled_X.append(get_vector(player, 'us'))\n",
    "            unscaled_y.append(rank)\n",
    "            \n",
    "        if rank2:\n",
    "            \n",
    "            unscaled_X.append(get_vector(player, 'eu'))\n",
    "            unscaled_y.append(rank2)\n",
    "\n",
    "    unscaled_X = np.array(unscaled_X, dtype=np.float64)\n",
    "    unscaled_y = np.array(unscaled_y, dtype=np.float64)\n",
    "    \n",
    "    print(unscaled_X.shape)\n",
    "    print(unscaled_y.shape)\n",
    "    \n",
    "    return unscaled_X, unscaled_y\n"
   ]
  },
  {
   "cell_type": "code",
   "execution_count": 3,
   "metadata": {
    "collapsed": true
   },
   "outputs": [],
   "source": [
    "# Standardize Data\n",
    "\n",
    "def scale_data(unscaled_X, unscaled_y):\n",
    "    \n",
    "    scaler_X = StandardScaler()\n",
    "    scaler_y = StandardScaler(with_mean=False) # SR is 1-5000 so scaling w/mean has weird effects\n",
    "\n",
    "    X = scaler_X.fit_transform(unscaled_X)\n",
    "    y = np.squeeze(scaler_y.fit_transform(unscaled_y.reshape(-1, 1)))\n",
    "    \n",
    "    return X, y, scaler_X, scaler_y\n",
    "\n",
    "def scale_data2(unscaled_X, unscaled_y):\n",
    "    \n",
    "    scaler_X = StandardScaler()\n",
    "\n",
    "    X = scaler_X.fit_transform(unscaled_X)\n",
    "    y = unscaled_y / 5000\n",
    "    \n",
    "    return X, y, scaler_X\n"
   ]
  },
  {
   "cell_type": "code",
   "execution_count": 4,
   "metadata": {
    "collapsed": true
   },
   "outputs": [],
   "source": [
    "# Keras Model\n",
    "\n",
    "def get_model(from_file=False):\n",
    "    \n",
    "    if not from_file:\n",
    "\n",
    "        model = Sequential()\n",
    "        model.add(Dense(40, input_dim=68, kernel_initializer='normal', activation='relu'))\n",
    "        model.add(Dropout(0.25))\n",
    "        model.add(Dense(40, kernel_initializer='normal', activation='relu'))\n",
    "        model.add(Dropout(0.25))\n",
    "        model.add(Dense(40, kernel_initializer='normal', activation='relu'))\n",
    "        model.add(Dense(1, kernel_initializer='normal'))\n",
    "\n",
    "        model.compile(loss='mean_squared_error', optimizer='adam') # MSE loss b/c regression\n",
    "        \n",
    "    else:\n",
    "        \n",
    "        model = load_model(os.path.join('models', 'overwatch-sr-1.h5'))\n",
    "    \n",
    "    return model\n",
    "\n",
    "def get_model2(from_file=False):\n",
    "    \n",
    "    if not from_file:\n",
    "        \n",
    "        model = Sequential()\n",
    "        model.add(Dense(13, input_dim=13, kernel_initializer='normal', activation='relu'))\n",
    "        model.add(Dropout(0.25))\n",
    "        model.add(Dense(13, kernel_initializer='normal', activation='relu'))\n",
    "        model.add(Dropout(0.25))\n",
    "        model.add(Dense(13, kernel_initializer='normal', activation='relu'))\n",
    "        model.add(Dense(1, kernel_initializer='normal'))\n",
    "\n",
    "        model.compile(loss='mean_squared_error', optimizer='adam')\n",
    "        \n",
    "    else:\n",
    "        \n",
    "        model = load_model(os.path.join('models', 'overwatch-sr-2.h5'))\n",
    "    \n",
    "    return model\n",
    "\n",
    "def get_model3(from_file=False):\n",
    "    \n",
    "    if not from_file:\n",
    "        \n",
    "        model = Sequential()\n",
    "        model.add(Dense(10, input_dim=3090, kernel_initializer='normal', activation='relu'))\n",
    "        model.add(Dropout(0.5))\n",
    "        model.add(Dense(10, kernel_initializer='normal', activation='relu'))\n",
    "        model.add(Dropout(0.5))\n",
    "        model.add(Dense(10, kernel_initializer='normal', activation='relu'))\n",
    "        model.add(Dropout(0.5))\n",
    "        model.add(Dense(10, kernel_initializer='normal', activation='relu'))\n",
    "        model.add(Dropout(0.5))\n",
    "        model.add(Dense(10, kernel_initializer='normal', activation='relu'))\n",
    "        model.add(Dropout(0.5))\n",
    "        model.add(Dense(10, kernel_initializer='normal', activation='relu'))\n",
    "        model.add(Dropout(0.5))\n",
    "        model.add(Dense(10, kernel_initializer='normal', activation='relu'))\n",
    "        model.add(Dense(1, kernel_initializer='normal'))\n",
    "\n",
    "        model.compile(loss='mean_squared_error', optimizer='adam')\n",
    "        \n",
    "    else:\n",
    "        \n",
    "        model = load_model(os.path.join('models', 'overwatch-sr-3.h5'))\n",
    "    \n",
    "    return model\n",
    "\n",
    "def get_model4(from_file=False):\n",
    "    \n",
    "    if not from_file:\n",
    "        \n",
    "        model = Sequential()\n",
    "        model.add(Dense(12, input_dim=410, kernel_initializer='normal', activation='relu'))\n",
    "        model.add(Dropout(0.25))\n",
    "        model.add(Dense(12, kernel_initializer='normal', activation='relu'))\n",
    "        model.add(Dropout(0.25))\n",
    "        model.add(Dense(12, kernel_initializer='normal', activation='relu'))\n",
    "        model.add(Dropout(0.25))\n",
    "        model.add(Dense(12, kernel_initializer='normal', activation='relu'))\n",
    "        model.add(Dropout(0.25))\n",
    "        model.add(Dense(12, kernel_initializer='normal', activation='relu'))\n",
    "        model.add(Dropout(0.25))\n",
    "        model.add(Dense(12, kernel_initializer='normal', activation='relu'))\n",
    "        model.add(Dense(1, kernel_initializer='normal'))\n",
    "\n",
    "        model.compile(loss='mean_squared_error', optimizer='adam')\n",
    "        \n",
    "    else:\n",
    "        \n",
    "        model = load_model(os.path.join('models', 'overwatch-sr-4.h5'))\n",
    "    \n",
    "    return model\n",
    "\n",
    "def get_model5(from_file=False):\n",
    "    \n",
    "    if not from_file:\n",
    "        \n",
    "        model = Sequential()\n",
    "        model.add(Dense(20, input_dim=3158, kernel_initializer='normal', activation='relu'))\n",
    "        model.add(Dropout(0.5))\n",
    "        model.add(Dense(20, kernel_initializer='normal', activation='relu'))\n",
    "        model.add(Dense(1, kernel_initializer='normal'))\n",
    "\n",
    "        model.compile(loss='mean_squared_error', optimizer='adam')\n",
    "        \n",
    "    else:\n",
    "        \n",
    "        model = load_model(os.path.join('models', 'overwatch-sr-5.h5'))\n",
    "    \n",
    "    return model\n"
   ]
  },
  {
   "cell_type": "code",
   "execution_count": 5,
   "metadata": {
    "collapsed": true,
    "scrolled": false
   },
   "outputs": [],
   "source": [
    "# Learning function. Wrapper for keras model.fit( ... )\n",
    "\n",
    "def train_model(model, *args, **kwargs):\n",
    "\n",
    "    history = model.fit(*args, **kwargs, shuffle=True, verbose=0)\n",
    "    \n",
    "    return history\n"
   ]
  },
  {
   "cell_type": "code",
   "execution_count": 6,
   "metadata": {
    "collapsed": true
   },
   "outputs": [],
   "source": [
    "# Predict SR\n",
    "\n",
    "def predict_sr(model, player):\n",
    "    \n",
    "    stats_vector = np.array([get_vector_gamestats(player, 'us')])\n",
    "    \n",
    "    X = scaler_X.transform(stats_vector)\n",
    "\n",
    "    y_matrix = model.predict(X)\n",
    "    \n",
    "    sr = np.squeeze(scaler_y.inverse_transform(y_matrix))\n",
    "    \n",
    "    return int(sr)\n",
    "\n",
    "def predict_sr2(model, player, scaler_for_X, get_vector):\n",
    "    \n",
    "    stats_vector = np.array([get_vector(player, 'us')])\n",
    "    \n",
    "    X = scaler_for_X.transform(stats_vector)\n",
    "\n",
    "    y_matrix = model.predict(X)\n",
    "    \n",
    "    sr = np.squeeze(y_matrix) * 5000\n",
    "    \n",
    "    return int(sr)\n"
   ]
  },
  {
   "cell_type": "code",
   "execution_count": 7,
   "metadata": {
    "collapsed": true
   },
   "outputs": [],
   "source": [
    "# Stats\n",
    "\n",
    "def view(history):\n",
    "    \n",
    "    plt.plot(np.log(history.history['loss']))\n",
    "    plt.plot(np.log(history.history['val_loss']))\n",
    "    plt.title('Model Loss')\n",
    "    plt.ylabel('Log(loss)')\n",
    "    plt.xlabel('epoch')\n",
    "    plt.legend(['Train', 'Test'], loc='upper right')\n",
    "    plt.show()\n",
    "    \n",
    "    plt.plot(np.sqrt(history.history['loss']) * 5000)\n",
    "    plt.plot(np.sqrt(history.history['val_loss']) * 5000)\n",
    "    plt.title('Model Accuracy')\n",
    "    plt.ylabel('Avg Accuracy')\n",
    "    plt.xlabel('epoch')\n",
    "    plt.ylim([0, 1250])\n",
    "    plt.legend(['Train', 'Test'], loc='upper right')\n",
    "    plt.show()\n",
    "    "
   ]
  },
  {
   "cell_type": "code",
   "execution_count": 8,
   "metadata": {},
   "outputs": [
    {
     "name": "stdout",
     "output_type": "stream",
     "text": [
      "(16834, 3090)\n",
      "(16834,)\n"
     ]
    },
    {
     "data": {
      "image/png": "[encoded data removed]",
      "text/plain": [
       "<matplotlib.figure.Figure at 0x1b8193519e8>"
      ]
     },
     "metadata": {},
     "output_type": "display_data"
    },
    {
     "data": {
      "image/png": "[encoded data removed]",
      "text/plain": [
       "<matplotlib.figure.Figure at 0x1b82e033c18>"
      ]
     },
     "metadata": {},
     "output_type": "display_data"
    }
   ],
   "source": [
    "# Run\n",
    "\n",
    "#get_vector = lambda player, region : get_vector_herostats(player, region, stat_keys=general_hero_stats)\n",
    "get_vector = lambda player, region : get_vector_herostats(player, region)\n",
    "\n",
    "X, y, scaler_X = scale_data2(*load_data(get_vector))\n",
    "\n",
    "#model = get_model4()\n",
    "model = get_model3()\n",
    "\n",
    "history = train_model(model, X, y, epochs=1200, batch_size=512, validation_split=.10)\n",
    "\n",
    "model.save(os.path.join('models', 'overwatch-sr-3.h5'))\n",
    "\n",
    "view(history)\n"
   ]
  },
  {
   "cell_type": "code",
   "execution_count": null,
   "metadata": {
    "scrolled": false
   },
   "outputs": [],
   "source": [
    "\n",
    "with open('test_names.txt', 'r') as test:\n",
    "\n",
    "    for battletag in find_usernames(test.read()):\n",
    "        \n",
    "        player = Player.from_web_battletag(battletag)\n",
    "        \n",
    "        actual = get_competitive_rank(player, 'us')\n",
    "        p = predict_sr2(model, player, scaler_X, get_vector)\n",
    "        \n",
    "        print(\"{} is {}, predicted {}\".format(battletag, actual, p))\n"
   ]
  }
 ],
 "metadata": {
  "kernelspec": {
   "display_name": "Python [conda env:tf-gpu]",
   "language": "python",
   "name": "conda-env-tf-gpu-py"
  },
  "language_info": {
   "codemirror_mode": {
    "name": "ipython",
    "version": 3
   },
   "file_extension": ".py",
   "mimetype": "text/x-python",
   "name": "python",
   "nbconvert_exporter": "python",
   "pygments_lexer": "ipython3",
   "version": "3.5.3"
  }
 },
 "nbformat": 4,
 "nbformat_minor": 2
}
