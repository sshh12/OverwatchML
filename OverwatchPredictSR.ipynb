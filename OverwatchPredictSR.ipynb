{
 "cells": [
  {
   "cell_type": "code",
   "execution_count": 1,
   "metadata": {},
   "outputs": [
    {
     "name": "stderr",
     "output_type": "stream",
     "text": [
      "Using TensorFlow backend.\n"
     ]
    }
   ],
   "source": [
    "# Imports\n",
    "\n",
    "from OverwatchProcessData import get_competitive_rank, get_vector_gamestats\n",
    "from OverwatchGatherData import Player\n",
    "\n",
    "from sklearn.preprocessing import StandardScaler\n",
    "from keras.models import Sequential\n",
    "from keras.layers import Dense, Dropout\n",
    "\n",
    "import matplotlib.pyplot as plt\n",
    "\n",
    "import numpy as np\n",
    "import os\n",
    "\n",
    "np.random.seed(5)"
   ]
  },
  {
   "cell_type": "code",
   "execution_count": 2,
   "metadata": {},
   "outputs": [],
   "source": [
    "# Load Data\n",
    "\n",
    "def load_data():\n",
    "\n",
    "    unscaled_X, unscaled_y = [], []\n",
    "\n",
    "    for filename in os.listdir('profiles'):\n",
    "\n",
    "        player = Player.from_file(os.path.join('profiles', filename))\n",
    "\n",
    "        rank = get_competitive_rank(player, 'us')\n",
    "\n",
    "        if rank: # Only use data w/rank attached\n",
    "\n",
    "            unscaled_X.append(get_vector_gamestats(player, 'us', 'competitive'))\n",
    "            unscaled_y.append(rank)\n",
    "\n",
    "    unscaled_X = np.array(unscaled_X, dtype=np.float64)\n",
    "    unscaled_y = np.array(unscaled_y, dtype=np.float64)\n",
    "    \n",
    "    return unscaled_X, unscaled_y\n"
   ]
  },
  {
   "cell_type": "code",
   "execution_count": 3,
   "metadata": {},
   "outputs": [],
   "source": [
    "# Standardize Data\n",
    "\n",
    "def scale_data(unscaled_X, unscaled_y):\n",
    "    \n",
    "    scaler_X = StandardScaler()\n",
    "    scaler_y = StandardScaler(with_mean=False) # SR is 1-5000 so scaling w/mean has weird effects\n",
    "\n",
    "    X = scaler_X.fit_transform(unscaled_X)\n",
    "    y = np.squeeze(scaler_y.fit_transform(unscaled_y.reshape(-1, 1)))\n",
    "    \n",
    "    return X, y, scaler_X, scaler_y\n"
   ]
  },
  {
   "cell_type": "code",
   "execution_count": 4,
   "metadata": {
    "collapsed": true
   },
   "outputs": [],
   "source": [
    "# Keras Model\n",
    "\n",
    "def get_model():\n",
    "\n",
    "    model = Sequential()\n",
    "    model.add(Dense(50, input_dim=68, kernel_initializer='normal', activation='relu'))\n",
    "    model.add(Dropout(0.2))\n",
    "    model.add(Dense(50, input_dim=68, kernel_initializer='normal', activation='relu'))\n",
    "    model.add(Dropout(0.2))\n",
    "    model.add(Dense(40, kernel_initializer='normal', activation='relu'))\n",
    "    model.add(Dense(1, kernel_initializer='normal'))\n",
    "\n",
    "    model.compile(loss='mean_squared_error', optimizer='adam') # MSE loss b/c regression\n",
    "    \n",
    "    return model\n"
   ]
  },
  {
   "cell_type": "code",
   "execution_count": 5,
   "metadata": {
    "scrolled": false
   },
   "outputs": [],
   "source": [
    "# Learning function\n",
    "\n",
    "def fit_to_data(model, *args, **kwargs): # Wrapper for keras model.fit( ... )\n",
    "\n",
    "    history = model.fit(*args, **kwargs, shuffle=True, verbose=0)\n",
    "    \n",
    "    return history\n"
   ]
  },
  {
   "cell_type": "code",
   "execution_count": 6,
   "metadata": {
    "collapsed": true
   },
   "outputs": [],
   "source": [
    "# Predict SR\n",
    "\n",
    "def predict_sr(model, player):\n",
    "    \n",
    "    stats_vector = np.array([get_vector_gamestats(player, 'us', 'competitive')])\n",
    "    X = scaler_X.transform(stats_vector)\n",
    "\n",
    "    y_matrix = model.predict(X)\n",
    "    sr = np.squeeze(scaler_y.inverse_transform(y_matrix))\n",
    "    \n",
    "    return int(sr)\n"
   ]
  },
  {
   "cell_type": "code",
   "execution_count": 7,
   "metadata": {},
   "outputs": [
    {
     "data": {
      "image/png": "[encoded data removed]",
      "text/plain": [
       "<matplotlib.figure.Figure at 0x1997c5614e0>"
      ]
     },
     "metadata": {},
     "output_type": "display_data"
    }
   ],
   "source": [
    "# Loads and trains model\n",
    "\n",
    "X, y, scaler_X, scaler_y = scale_data(*load_data())\n",
    "\n",
    "model = get_model()\n",
    "\n",
    "history = fit_to_data(model, X, y, epochs=200, batch_size=128, validation_split=.10)\n",
    "\n",
    "# Plot loss\n",
    "\n",
    "plt.plot(history.history['loss'])\n",
    "plt.plot(history.history['val_loss'])\n",
    "plt.title('model loss')\n",
    "plt.ylabel('loss')\n",
    "plt.xlabel('epoch')\n",
    "plt.legend(['train', 'test'], loc='upper right')\n",
    "plt.show()\n"
   ]
  }
 ],
 "metadata": {
  "kernelspec": {
   "display_name": "Python [conda env:tf-gpu]",
   "language": "python",
   "name": "conda-env-tf-gpu-py"
  },
  "language_info": {
   "codemirror_mode": {
    "name": "ipython",
    "version": 3
   },
   "file_extension": ".py",
   "mimetype": "text/x-python",
   "name": "python",
   "nbconvert_exporter": "python",
   "pygments_lexer": "ipython3",
   "version": "3.5.3"
  }
 },
 "nbformat": 4,
 "nbformat_minor": 2
}
